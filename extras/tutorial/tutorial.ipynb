{
 "cells": [
  {
   "cell_type": "code",
   "execution_count": 1,
   "metadata": {},
   "outputs": [],
   "source": [
    "import warnings\n",
    "warnings.filterwarnings('ignore')"
   ]
  },
  {
   "cell_type": "markdown",
   "metadata": {},
   "source": [
    "### Testing `PredictionService` API"
   ]
  },
  {
   "cell_type": "code",
   "execution_count": 2,
   "metadata": {},
   "outputs": [
    {
     "name": "stdout",
     "output_type": "stream",
     "text": [
      "Tensorflow Library Available: True\n"
     ]
    },
    {
     "ename": "TypeError",
     "evalue": "Couldn't build proto file into descriptor pool!\nInvalid proto descriptor for file \"stfsclient/google/protobuf/wrappers.proto\":\n  google.protobuf.DoubleValue.value: \"google.protobuf.DoubleValue.value\" is already defined in file \"google/protobuf/wrappers.proto\".\n  google.protobuf.DoubleValue: \"google.protobuf.DoubleValue\" is already defined in file \"google/protobuf/wrappers.proto\".\n  google.protobuf.FloatValue.value: \"google.protobuf.FloatValue.value\" is already defined in file \"google/protobuf/wrappers.proto\".\n  google.protobuf.FloatValue: \"google.protobuf.FloatValue\" is already defined in file \"google/protobuf/wrappers.proto\".\n  google.protobuf.Int64Value.value: \"google.protobuf.Int64Value.value\" is already defined in file \"google/protobuf/wrappers.proto\".\n  google.protobuf.Int64Value: \"google.protobuf.Int64Value\" is already defined in file \"google/protobuf/wrappers.proto\".\n  google.protobuf.UInt64Value.value: \"google.protobuf.UInt64Value.value\" is already defined in file \"google/protobuf/wrappers.proto\".\n  google.protobuf.UInt64Value: \"google.protobuf.UInt64Value\" is already defined in file \"google/protobuf/wrappers.proto\".\n  google.protobuf.Int32Value.value: \"google.protobuf.Int32Value.value\" is already defined in file \"google/protobuf/wrappers.proto\".\n  google.protobuf.Int32Value: \"google.protobuf.Int32Value\" is already defined in file \"google/protobuf/wrappers.proto\".\n  google.protobuf.UInt32Value.value: \"google.protobuf.UInt32Value.value\" is already defined in file \"google/protobuf/wrappers.proto\".\n  google.protobuf.UInt32Value: \"google.protobuf.UInt32Value\" is already defined in file \"google/protobuf/wrappers.proto\".\n  google.protobuf.BoolValue.value: \"google.protobuf.BoolValue.value\" is already defined in file \"google/protobuf/wrappers.proto\".\n  google.protobuf.BoolValue: \"google.protobuf.BoolValue\" is already defined in file \"google/protobuf/wrappers.proto\".\n  google.protobuf.StringValue.value: \"google.protobuf.StringValue.value\" is already defined in file \"google/protobuf/wrappers.proto\".\n  google.protobuf.StringValue: \"google.protobuf.StringValue\" is already defined in file \"google/protobuf/wrappers.proto\".\n  google.protobuf.BytesValue.value: \"google.protobuf.BytesValue.value\" is already defined in file \"google/protobuf/wrappers.proto\".\n  google.protobuf.BytesValue: \"google.protobuf.BytesValue\" is already defined in file \"google/protobuf/wrappers.proto\".\n",
     "output_type": "error",
     "traceback": [
      "\u001b[0;31m---------------------------------------------------------------------------\u001b[0m",
      "\u001b[0;31mTypeError\u001b[0m                                 Traceback (most recent call last)",
      "\u001b[0;32m<ipython-input-2-77f830fba78e>\u001b[0m in \u001b[0;36m<module>\u001b[0;34m\u001b[0m\n\u001b[0;32m----> 1\u001b[0;31m \u001b[0;32mfrom\u001b[0m \u001b[0mstfsclient\u001b[0m \u001b[0;32mimport\u001b[0m \u001b[0mapis\u001b[0m\u001b[0;34m,\u001b[0m \u001b[0mconfig\u001b[0m\u001b[0;34m,\u001b[0m \u001b[0mutil\u001b[0m\u001b[0;34m,\u001b[0m \u001b[0msources\u001b[0m\u001b[0;34m\u001b[0m\u001b[0;34m\u001b[0m\u001b[0m\n\u001b[0m",
      "\u001b[0;32m/media/jagan-s/Backup/my_project/stfsclient/stfsclient/apis.py\u001b[0m in \u001b[0;36m<module>\u001b[0;34m\u001b[0m\n\u001b[1;32m      1\u001b[0m \u001b[0;32mimport\u001b[0m \u001b[0mgrpc\u001b[0m\u001b[0;34m\u001b[0m\u001b[0;34m\u001b[0m\u001b[0m\n\u001b[1;32m      2\u001b[0m \u001b[0;32mfrom\u001b[0m \u001b[0mstfsclient\u001b[0m\u001b[0;34m.\u001b[0m\u001b[0mtf_utils\u001b[0m \u001b[0;32mimport\u001b[0m \u001b[0m_make_tensor_proto\u001b[0m\u001b[0;34m,\u001b[0m \u001b[0m_make_ndarray\u001b[0m\u001b[0;34m\u001b[0m\u001b[0;34m\u001b[0m\u001b[0m\n\u001b[0;32m----> 3\u001b[0;31m \u001b[0;32mfrom\u001b[0m \u001b[0mstfsclient\u001b[0m\u001b[0;34m.\u001b[0m\u001b[0mtensorflow_serving\u001b[0m\u001b[0;34m.\u001b[0m\u001b[0mapis\u001b[0m \u001b[0;32mimport\u001b[0m \u001b[0mmodel_pb2\u001b[0m\u001b[0;34m\u001b[0m\u001b[0;34m\u001b[0m\u001b[0m\n\u001b[0m\u001b[1;32m      4\u001b[0m \u001b[0;32mfrom\u001b[0m \u001b[0mstfsclient\u001b[0m\u001b[0;34m.\u001b[0m\u001b[0mtensorflow_serving\u001b[0m\u001b[0;34m.\u001b[0m\u001b[0mapis\u001b[0m \u001b[0;32mimport\u001b[0m \u001b[0mget_model_metadata_pb2\u001b[0m\u001b[0;34m,\u001b[0m \u001b[0mpredict_pb2\u001b[0m\u001b[0;34m\u001b[0m\u001b[0;34m\u001b[0m\u001b[0m\n\u001b[1;32m      5\u001b[0m \u001b[0;32mfrom\u001b[0m \u001b[0mstfsclient\u001b[0m\u001b[0;34m.\u001b[0m\u001b[0mtensorflow_serving\u001b[0m\u001b[0;34m.\u001b[0m\u001b[0mapis\u001b[0m \u001b[0;32mimport\u001b[0m \u001b[0mget_model_status_pb2\u001b[0m\u001b[0;34m,\u001b[0m \u001b[0mmodel_management_pb2\u001b[0m\u001b[0;34m\u001b[0m\u001b[0;34m\u001b[0m\u001b[0m\n",
      "\u001b[0;32m/media/jagan-s/Backup/my_project/stfsclient/stfsclient/tensorflow_serving/apis/model_pb2.py\u001b[0m in \u001b[0;36m<module>\u001b[0;34m\u001b[0m\n\u001b[1;32m     14\u001b[0m \u001b[0;34m\u001b[0m\u001b[0m\n\u001b[1;32m     15\u001b[0m \u001b[0;34m\u001b[0m\u001b[0m\n\u001b[0;32m---> 16\u001b[0;31m \u001b[0;32mfrom\u001b[0m \u001b[0mstfsclient\u001b[0m\u001b[0;34m.\u001b[0m\u001b[0mgoogle\u001b[0m\u001b[0;34m.\u001b[0m\u001b[0mprotobuf\u001b[0m \u001b[0;32mimport\u001b[0m \u001b[0mwrappers_pb2\u001b[0m \u001b[0;32mas\u001b[0m \u001b[0mstfsclient_dot_google_dot_protobuf_dot_wrappers__pb2\u001b[0m\u001b[0;34m\u001b[0m\u001b[0;34m\u001b[0m\u001b[0m\n\u001b[0m\u001b[1;32m     17\u001b[0m \u001b[0;34m\u001b[0m\u001b[0m\n\u001b[1;32m     18\u001b[0m \u001b[0;34m\u001b[0m\u001b[0m\n",
      "\u001b[0;32m/media/jagan-s/Backup/my_project/stfsclient/stfsclient/google/protobuf/wrappers_pb2.py\u001b[0m in \u001b[0;36m<module>\u001b[0;34m\u001b[0m\n\u001b[1;32m     21\u001b[0m   \u001b[0msyntax\u001b[0m\u001b[0;34m=\u001b[0m\u001b[0;34m'proto3'\u001b[0m\u001b[0;34m,\u001b[0m\u001b[0;34m\u001b[0m\u001b[0;34m\u001b[0m\u001b[0m\n\u001b[1;32m     22\u001b[0m   \u001b[0mserialized_options\u001b[0m\u001b[0;34m=\u001b[0m\u001b[0m_b\u001b[0m\u001b[0;34m(\u001b[0m\u001b[0;34m'\\n\\023com.google.protobufB\\rWrappersProtoP\\001Z*github.com/golang/protobuf/ptypes/wrappers\\370\\001\\001\\242\\002\\003GPB\\252\\002\\036Google.Protobuf.WellKnownTypes'\u001b[0m\u001b[0;34m)\u001b[0m\u001b[0;34m,\u001b[0m\u001b[0;34m\u001b[0m\u001b[0;34m\u001b[0m\u001b[0m\n\u001b[0;32m---> 23\u001b[0;31m   \u001b[0mserialized_pb\u001b[0m\u001b[0;34m=\u001b[0m\u001b[0m_b\u001b[0m\u001b[0;34m(\u001b[0m\u001b[0;34m'\\n)stfsclient/google/protobuf/wrappers.proto\\x12\\x0fgoogle.protobuf\\\"\\x1c\\n\\x0b\\x44oubleValue\\x12\\r\\n\\x05value\\x18\\x01 \\x01(\\x01\\\"\\x1b\\n\\nFloatValue\\x12\\r\\n\\x05value\\x18\\x01 \\x01(\\x02\\\"\\x1b\\n\\nInt64Value\\x12\\r\\n\\x05value\\x18\\x01 \\x01(\\x03\\\"\\x1c\\n\\x0bUInt64Value\\x12\\r\\n\\x05value\\x18\\x01 \\x01(\\x04\\\"\\x1b\\n\\nInt32Value\\x12\\r\\n\\x05value\\x18\\x01 \\x01(\\x05\\\"\\x1c\\n\\x0bUInt32Value\\x12\\r\\n\\x05value\\x18\\x01 \\x01(\\r\\\"\\x1a\\n\\tBoolValue\\x12\\r\\n\\x05value\\x18\\x01 \\x01(\\x08\\\"\\x1c\\n\\x0bStringValue\\x12\\r\\n\\x05value\\x18\\x01 \\x01(\\t\\\"\\x1b\\n\\nBytesValue\\x12\\r\\n\\x05value\\x18\\x01 \\x01(\\x0c\\x42|\\n\\x13\\x63om.google.protobufB\\rWrappersProtoP\\x01Z*github.com/golang/protobuf/ptypes/wrappers\\xf8\\x01\\x01\\xa2\\x02\\x03GPB\\xaa\\x02\\x1eGoogle.Protobuf.WellKnownTypesb\\x06proto3'\u001b[0m\u001b[0;34m)\u001b[0m\u001b[0;34m\u001b[0m\u001b[0;34m\u001b[0m\u001b[0m\n\u001b[0m\u001b[1;32m     24\u001b[0m )\n\u001b[1;32m     25\u001b[0m \u001b[0;34m\u001b[0m\u001b[0m\n",
      "\u001b[0;32m~/.virtualenvs/stfsclient_dev/lib/python3.6/site-packages/google/protobuf/descriptor.py\u001b[0m in \u001b[0;36m__new__\u001b[0;34m(cls, name, package, options, serialized_options, serialized_pb, dependencies, public_dependencies, syntax, pool)\u001b[0m\n\u001b[1;32m    877\u001b[0m         \u001b[0;31m# TODO(amauryfa): use the pool passed as argument. This will work only\u001b[0m\u001b[0;34m\u001b[0m\u001b[0;34m\u001b[0m\u001b[0;34m\u001b[0m\u001b[0m\n\u001b[1;32m    878\u001b[0m         \u001b[0;31m# for C++-implemented DescriptorPools.\u001b[0m\u001b[0;34m\u001b[0m\u001b[0;34m\u001b[0m\u001b[0;34m\u001b[0m\u001b[0m\n\u001b[0;32m--> 879\u001b[0;31m         \u001b[0;32mreturn\u001b[0m \u001b[0m_message\u001b[0m\u001b[0;34m.\u001b[0m\u001b[0mdefault_pool\u001b[0m\u001b[0;34m.\u001b[0m\u001b[0mAddSerializedFile\u001b[0m\u001b[0;34m(\u001b[0m\u001b[0mserialized_pb\u001b[0m\u001b[0;34m)\u001b[0m\u001b[0;34m\u001b[0m\u001b[0;34m\u001b[0m\u001b[0m\n\u001b[0m\u001b[1;32m    880\u001b[0m       \u001b[0;32melse\u001b[0m\u001b[0;34m:\u001b[0m\u001b[0;34m\u001b[0m\u001b[0;34m\u001b[0m\u001b[0m\n\u001b[1;32m    881\u001b[0m         \u001b[0;32mreturn\u001b[0m \u001b[0msuper\u001b[0m\u001b[0;34m(\u001b[0m\u001b[0mFileDescriptor\u001b[0m\u001b[0;34m,\u001b[0m \u001b[0mcls\u001b[0m\u001b[0;34m)\u001b[0m\u001b[0;34m.\u001b[0m\u001b[0m__new__\u001b[0m\u001b[0;34m(\u001b[0m\u001b[0mcls\u001b[0m\u001b[0;34m)\u001b[0m\u001b[0;34m\u001b[0m\u001b[0;34m\u001b[0m\u001b[0m\n",
      "\u001b[0;31mTypeError\u001b[0m: Couldn't build proto file into descriptor pool!\nInvalid proto descriptor for file \"stfsclient/google/protobuf/wrappers.proto\":\n  google.protobuf.DoubleValue.value: \"google.protobuf.DoubleValue.value\" is already defined in file \"google/protobuf/wrappers.proto\".\n  google.protobuf.DoubleValue: \"google.protobuf.DoubleValue\" is already defined in file \"google/protobuf/wrappers.proto\".\n  google.protobuf.FloatValue.value: \"google.protobuf.FloatValue.value\" is already defined in file \"google/protobuf/wrappers.proto\".\n  google.protobuf.FloatValue: \"google.protobuf.FloatValue\" is already defined in file \"google/protobuf/wrappers.proto\".\n  google.protobuf.Int64Value.value: \"google.protobuf.Int64Value.value\" is already defined in file \"google/protobuf/wrappers.proto\".\n  google.protobuf.Int64Value: \"google.protobuf.Int64Value\" is already defined in file \"google/protobuf/wrappers.proto\".\n  google.protobuf.UInt64Value.value: \"google.protobuf.UInt64Value.value\" is already defined in file \"google/protobuf/wrappers.proto\".\n  google.protobuf.UInt64Value: \"google.protobuf.UInt64Value\" is already defined in file \"google/protobuf/wrappers.proto\".\n  google.protobuf.Int32Value.value: \"google.protobuf.Int32Value.value\" is already defined in file \"google/protobuf/wrappers.proto\".\n  google.protobuf.Int32Value: \"google.protobuf.Int32Value\" is already defined in file \"google/protobuf/wrappers.proto\".\n  google.protobuf.UInt32Value.value: \"google.protobuf.UInt32Value.value\" is already defined in file \"google/protobuf/wrappers.proto\".\n  google.protobuf.UInt32Value: \"google.protobuf.UInt32Value\" is already defined in file \"google/protobuf/wrappers.proto\".\n  google.protobuf.BoolValue.value: \"google.protobuf.BoolValue.value\" is already defined in file \"google/protobuf/wrappers.proto\".\n  google.protobuf.BoolValue: \"google.protobuf.BoolValue\" is already defined in file \"google/protobuf/wrappers.proto\".\n  google.protobuf.StringValue.value: \"google.protobuf.StringValue.value\" is already defined in file \"google/protobuf/wrappers.proto\".\n  google.protobuf.StringValue: \"google.protobuf.StringValue\" is already defined in file \"google/protobuf/wrappers.proto\".\n  google.protobuf.BytesValue.value: \"google.protobuf.BytesValue.value\" is already defined in file \"google/protobuf/wrappers.proto\".\n  google.protobuf.BytesValue: \"google.protobuf.BytesValue\" is already defined in file \"google/protobuf/wrappers.proto\".\n"
     ]
    }
   ],
   "source": [
    "from stfsclient import apis, config, util, sources"
   ]
  },
  {
   "cell_type": "code",
   "execution_count": 3,
   "metadata": {},
   "outputs": [],
   "source": [
    "model_spec = ModelSpec(name='mnist', version=2, signature_name='predict_images')"
   ]
  },
  {
   "cell_type": "code",
   "execution_count": 4,
   "metadata": {},
   "outputs": [
    {
     "data": {
      "text/plain": [
       "name: \"mnist\"\n",
       "version {\n",
       "  value: 2\n",
       "}\n",
       "signature_name: \"predict_images\""
      ]
     },
     "execution_count": 4,
     "metadata": {},
     "output_type": "execute_result"
    }
   ],
   "source": [
    "model_spec"
   ]
  },
  {
   "cell_type": "code",
   "execution_count": 5,
   "metadata": {},
   "outputs": [],
   "source": [
    "import mnist_input_data"
   ]
  },
  {
   "cell_type": "code",
   "execution_count": 11,
   "metadata": {},
   "outputs": [],
   "source": [
    "num_test = 2"
   ]
  },
  {
   "cell_type": "code",
   "execution_count": 12,
   "metadata": {},
   "outputs": [
    {
     "name": "stdout",
     "output_type": "stream",
     "text": [
      "Extracting /tmp/train-images-idx3-ubyte.gz\n",
      "Extracting /tmp/train-labels-idx1-ubyte.gz\n",
      "Extracting /tmp/t10k-images-idx3-ubyte.gz\n",
      "Extracting /tmp/t10k-labels-idx1-ubyte.gz\n"
     ]
    }
   ],
   "source": [
    "test_data_set = mnist_input_data.read_data_sets('/tmp').test"
   ]
  },
  {
   "cell_type": "code",
   "execution_count": 13,
   "metadata": {},
   "outputs": [],
   "source": [
    "predict_request = PredictRequest(model_spec=model_spec)\n",
    "get_metadata_request = GetModelMetadataRequest(model_spec, 'signature_def')\n",
    "prediction_service = PredictionService('0.0.0.0:8500')"
   ]
  },
  {
   "cell_type": "code",
   "execution_count": 14,
   "metadata": {},
   "outputs": [],
   "source": [
    "predict_output_list = []\n",
    "actual_output_list = []\n",
    "metadata_output_list = []\n",
    "for _ in range(num_test):\n",
    "    image, label = test_data_set.next_batch(1)\n",
    "    predict_request.inputs = {'images' : image[0].reshape(1,-1)}\n",
    "    actual_output_list.append(label)\n",
    "    predict_response = PredictResponse().copy(prediction_service.predict(predict_request._protobuf))\n",
    "    predict_output_list.append(predict_response.parse_outputs())\n",
    "    metadata_output_list.append(prediction_service.get_model_metadata(get_metadata_request._protobuf, 5)) # not parsed :("
   ]
  },
  {
   "cell_type": "code",
   "execution_count": 15,
   "metadata": {},
   "outputs": [],
   "source": [
    "import numpy as np"
   ]
  },
  {
   "cell_type": "markdown",
   "metadata": {},
   "source": [
    "#### Truth vs Prediction"
   ]
  },
  {
   "cell_type": "code",
   "execution_count": 21,
   "metadata": {},
   "outputs": [
    {
     "name": "stdout",
     "output_type": "stream",
     "text": [
      "Accuracy: 100.00%\n"
     ]
    }
   ],
   "source": [
    "error = 0\n",
    "for truth, pred in zip(actual_output_list, predict_output_list):\n",
    "    if not np.array_equal(truth, np.argmax(pred['scores'], axis=-1)):\n",
    "        error += 1\n",
    "print('Accuracy: {:.2f}%'.format(100*(1-error/num_test)))"
   ]
  },
  {
   "cell_type": "code",
   "execution_count": 22,
   "metadata": {},
   "outputs": [
    {
     "data": {
      "text/plain": [
       "[model_spec {\n",
       "   name: \"mnist\"\n",
       "   version {\n",
       "     value: 2\n",
       "   }\n",
       " }\n",
       " metadata {\n",
       "   key: \"signature_def\"\n",
       "   value {\n",
       "     type_url: \"type.googleapis.com/tensorflow.serving.SignatureDefMap\"\n",
       "     value: \"\\n\\305\\001\\n\\017serving_default\\022\\261\\001\\n\\036\\n\\006inputs\\022\\024\\n\\014tf_example:0\\020\\007\\032\\002\\030\\001\\022)\\n\\006scores\\022\\037\\n\\010TopKV2:0\\020\\001\\032\\021\\022\\013\\010\\377\\377\\377\\377\\377\\377\\377\\377\\377\\001\\022\\002\\010\\n\\022G\\n\\007classes\\022<\\n%hash_table_Lookup/LookupTableFindV2:0\\020\\007\\032\\021\\022\\013\\010\\377\\377\\377\\377\\377\\377\\377\\377\\377\\001\\022\\002\\010\\n\\032\\033tensorflow/serving/classify\\n{\\n\\016predict_images\\022i\\n%\\n\\006images\\022\\033\\n\\003x:0\\020\\001\\032\\022\\022\\013\\010\\377\\377\\377\\377\\377\\377\\377\\377\\377\\001\\022\\003\\010\\220\\006\\022$\\n\\006scores\\022\\032\\n\\003y:0\\020\\001\\032\\021\\022\\013\\010\\377\\377\\377\\377\\377\\377\\377\\377\\377\\001\\022\\002\\010\\n\\032\\032tensorflow/serving/predict\"\n",
       "   }\n",
       " }, model_spec {\n",
       "   name: \"mnist\"\n",
       "   version {\n",
       "     value: 2\n",
       "   }\n",
       " }\n",
       " metadata {\n",
       "   key: \"signature_def\"\n",
       "   value {\n",
       "     type_url: \"type.googleapis.com/tensorflow.serving.SignatureDefMap\"\n",
       "     value: \"\\n\\305\\001\\n\\017serving_default\\022\\261\\001\\n\\036\\n\\006inputs\\022\\024\\n\\014tf_example:0\\020\\007\\032\\002\\030\\001\\022)\\n\\006scores\\022\\037\\n\\010TopKV2:0\\020\\001\\032\\021\\022\\013\\010\\377\\377\\377\\377\\377\\377\\377\\377\\377\\001\\022\\002\\010\\n\\022G\\n\\007classes\\022<\\n%hash_table_Lookup/LookupTableFindV2:0\\020\\007\\032\\021\\022\\013\\010\\377\\377\\377\\377\\377\\377\\377\\377\\377\\001\\022\\002\\010\\n\\032\\033tensorflow/serving/classify\\n{\\n\\016predict_images\\022i\\n%\\n\\006images\\022\\033\\n\\003x:0\\020\\001\\032\\022\\022\\013\\010\\377\\377\\377\\377\\377\\377\\377\\377\\377\\001\\022\\003\\010\\220\\006\\022$\\n\\006scores\\022\\032\\n\\003y:0\\020\\001\\032\\021\\022\\013\\010\\377\\377\\377\\377\\377\\377\\377\\377\\377\\001\\022\\002\\010\\n\\032\\032tensorflow/serving/predict\"\n",
       "   }\n",
       " }]"
      ]
     },
     "execution_count": 22,
     "metadata": {},
     "output_type": "execute_result"
    }
   ],
   "source": [
    "metadata_output_list"
   ]
  },
  {
   "cell_type": "markdown",
   "metadata": {},
   "source": [
    "#### TODO: Parse `signature_def` :("
   ]
  },
  {
   "cell_type": "markdown",
   "metadata": {},
   "source": [
    "### Testing `ModelService` API"
   ]
  },
  {
   "cell_type": "code",
   "execution_count": 23,
   "metadata": {},
   "outputs": [],
   "source": [
    "from config import *\n",
    "from sources import *"
   ]
  },
  {
   "cell_type": "code",
   "execution_count": 24,
   "metadata": {},
   "outputs": [],
   "source": [
    "version_policy_a = ServableVersionPolicy(specific=1)\n",
    "version_policy_b = ServableVersionPolicy(_all=1)"
   ]
  },
  {
   "cell_type": "code",
   "execution_count": 25,
   "metadata": {},
   "outputs": [],
   "source": [
    "model_config_a = ModelConfig(name='mnist', \n",
    "                             base_path='/models/mnist', \n",
    "                             model_platform='tensorflow', \n",
    "                             model_version_policy=version_policy_a)"
   ]
  },
  {
   "cell_type": "code",
   "execution_count": 26,
   "metadata": {},
   "outputs": [],
   "source": [
    "model_config_b = ModelConfig(name='mnist', \n",
    "                             base_path='/models/mnist', \n",
    "                             model_platform='tensorflow', \n",
    "                             model_version_policy=version_policy_b)"
   ]
  },
  {
   "cell_type": "markdown",
   "metadata": {},
   "source": [
    "### Running `A`, i.e. Load version #1"
   ]
  },
  {
   "cell_type": "markdown",
   "metadata": {},
   "source": [
    "#### Reload"
   ]
  },
  {
   "cell_type": "code",
   "execution_count": 27,
   "metadata": {},
   "outputs": [],
   "source": [
    "model_config_list = ModelConfigList(config=[model_config_a])\n",
    "model_server_config = ModelServerConfig(model_config_list=model_config_list)"
   ]
  },
  {
   "cell_type": "code",
   "execution_count": 28,
   "metadata": {},
   "outputs": [],
   "source": [
    "reload_config_request = ReloadConfigRequest(config=model_server_config)\n",
    "model_service = ModelService('0.0.0.0:8500')\n",
    "reload_config_response = ReloadConfigResponse().copy(model_service.reload_config(reload_config_request._protobuf, 5))"
   ]
  },
  {
   "cell_type": "code",
   "execution_count": 29,
   "metadata": {},
   "outputs": [
    {
     "data": {
      "text/plain": [
       "status {\n",
       "}"
      ]
     },
     "execution_count": 29,
     "metadata": {},
     "output_type": "execute_result"
    }
   ],
   "source": [
    "reload_config_response # if successful returns an empty status"
   ]
  },
  {
   "cell_type": "markdown",
   "metadata": {},
   "source": [
    "#### Get Status"
   ]
  },
  {
   "cell_type": "code",
   "execution_count": 30,
   "metadata": {},
   "outputs": [],
   "source": [
    "model_spec = ModelSpec(name='mnist', signature_name='predict_images')"
   ]
  },
  {
   "cell_type": "code",
   "execution_count": 31,
   "metadata": {},
   "outputs": [],
   "source": [
    "get_model_status_request = GetModelStatusRequest(model_spec=model_spec)"
   ]
  },
  {
   "cell_type": "code",
   "execution_count": 32,
   "metadata": {},
   "outputs": [],
   "source": [
    "get_model_status_response = GetModelStatusResponse().copy(model_service.get_model_status(get_model_status_request._protobuf, 5))"
   ]
  },
  {
   "cell_type": "code",
   "execution_count": 33,
   "metadata": {},
   "outputs": [
    {
     "data": {
      "text/plain": [
       "model_version_status {\n",
       "  version: 2\n",
       "  state: END\n",
       "  status {\n",
       "  }\n",
       "}\n",
       "model_version_status {\n",
       "  version: 1\n",
       "  state: AVAILABLE\n",
       "  status {\n",
       "  }\n",
       "}"
      ]
     },
     "execution_count": 33,
     "metadata": {},
     "output_type": "execute_result"
    }
   ],
   "source": [
    "get_model_status_response"
   ]
  },
  {
   "cell_type": "markdown",
   "metadata": {},
   "source": [
    "Version 1 is running and 2 has been taken down."
   ]
  },
  {
   "cell_type": "markdown",
   "metadata": {},
   "source": [
    "### Running `B`, i.e. Load all versions"
   ]
  },
  {
   "cell_type": "markdown",
   "metadata": {},
   "source": [
    "#### Reload"
   ]
  },
  {
   "cell_type": "code",
   "execution_count": 34,
   "metadata": {},
   "outputs": [],
   "source": [
    "model_config_list = ModelConfigList(config=[model_config_b])\n",
    "model_server_config = ModelServerConfig(model_config_list=model_config_list)"
   ]
  },
  {
   "cell_type": "code",
   "execution_count": 36,
   "metadata": {},
   "outputs": [],
   "source": [
    "reload_config_request = ReloadConfigRequest(config=model_server_config)\n",
    "model_service = ModelService('0.0.0.0:8500')\n",
    "reload_config_response = ReloadConfigResponse().copy(model_service.reload_config(reload_config_request._protobuf, 2))"
   ]
  },
  {
   "cell_type": "code",
   "execution_count": 37,
   "metadata": {},
   "outputs": [
    {
     "data": {
      "text/plain": [
       "status {\n",
       "}"
      ]
     },
     "execution_count": 37,
     "metadata": {},
     "output_type": "execute_result"
    }
   ],
   "source": [
    "reload_config_response # if successful returns an empty status"
   ]
  },
  {
   "cell_type": "markdown",
   "metadata": {},
   "source": [
    "#### Get Status"
   ]
  },
  {
   "cell_type": "code",
   "execution_count": 43,
   "metadata": {},
   "outputs": [],
   "source": [
    "model_spec = ModelSpec(name='mnist', signature_name='predict_images')"
   ]
  },
  {
   "cell_type": "code",
   "execution_count": 44,
   "metadata": {},
   "outputs": [],
   "source": [
    "get_model_status_request = GetModelStatusRequest(model_spec=model_spec)"
   ]
  },
  {
   "cell_type": "code",
   "execution_count": 46,
   "metadata": {},
   "outputs": [],
   "source": [
    "get_model_status_response = GetModelStatusResponse().copy(model_service.get_model_status(get_model_status_request._protobuf, 2))"
   ]
  },
  {
   "cell_type": "code",
   "execution_count": 47,
   "metadata": {},
   "outputs": [
    {
     "data": {
      "text/plain": [
       "model_version_status {\n",
       "  version: 2\n",
       "  state: AVAILABLE\n",
       "  status {\n",
       "  }\n",
       "}\n",
       "model_version_status {\n",
       "  version: 1\n",
       "  state: AVAILABLE\n",
       "  status {\n",
       "  }\n",
       "}"
      ]
     },
     "execution_count": 47,
     "metadata": {},
     "output_type": "execute_result"
    }
   ],
   "source": [
    "get_model_status_response"
   ]
  },
  {
   "cell_type": "markdown",
   "metadata": {},
   "source": [
    "Both the versions are running."
   ]
  },
  {
   "cell_type": "markdown",
   "metadata": {},
   "source": [
    "### Running config `C`, i.e. Unload all versions"
   ]
  },
  {
   "cell_type": "markdown",
   "metadata": {},
   "source": [
    "#### Reload"
   ]
  },
  {
   "cell_type": "code",
   "execution_count": 48,
   "metadata": {},
   "outputs": [],
   "source": [
    "model_server_config = ModelServerConfig()\n",
    "# it's important you initialize the config as empty, otherwise you'll get a gRPC error\n",
    "model_server_config.model_config_list.config = []  # sending an empty model_server_config"
   ]
  },
  {
   "cell_type": "code",
   "execution_count": 49,
   "metadata": {},
   "outputs": [],
   "source": [
    "reload_config_request = ReloadConfigRequest(config=model_server_config)\n",
    "model_service = ModelService('0.0.0.0:8500')\n",
    "reload_config_response = ReloadConfigResponse().copy(model_service.reload_config(reload_config_request._protobuf, 2))"
   ]
  },
  {
   "cell_type": "code",
   "execution_count": 50,
   "metadata": {},
   "outputs": [
    {
     "data": {
      "text/plain": [
       "status {\n",
       "}"
      ]
     },
     "execution_count": 50,
     "metadata": {},
     "output_type": "execute_result"
    }
   ],
   "source": [
    "reload_config_response # if successful returns an empty status"
   ]
  },
  {
   "cell_type": "markdown",
   "metadata": {},
   "source": [
    "#### Get Status"
   ]
  },
  {
   "cell_type": "code",
   "execution_count": 51,
   "metadata": {},
   "outputs": [],
   "source": [
    "model_spec = ModelSpec(name='mnist', signature_name='predict_images')"
   ]
  },
  {
   "cell_type": "code",
   "execution_count": 52,
   "metadata": {},
   "outputs": [],
   "source": [
    "get_model_status_request = GetModelStatusRequest(model_spec=model_spec)"
   ]
  },
  {
   "cell_type": "code",
   "execution_count": 53,
   "metadata": {},
   "outputs": [],
   "source": [
    "get_model_status_response = GetModelStatusResponse().copy(model_service.get_model_status(get_model_status_request._protobuf, 2))"
   ]
  },
  {
   "cell_type": "code",
   "execution_count": null,
   "metadata": {},
   "outputs": [],
   "source": [
    "get_model_status_response"
   ]
  },
  {
   "cell_type": "markdown",
   "metadata": {},
   "source": [
    "All versions have been taken down."
   ]
  }
 ],
 "metadata": {
  "kernelspec": {
   "display_name": "Python 3",
   "language": "python",
   "name": "python3"
  },
  "language_info": {
   "codemirror_mode": {
    "name": "ipython",
    "version": 3
   },
   "file_extension": ".py",
   "mimetype": "text/x-python",
   "name": "python",
   "nbconvert_exporter": "python",
   "pygments_lexer": "ipython3",
   "version": "3.6.8"
  }
 },
 "nbformat": 4,
 "nbformat_minor": 4
}
