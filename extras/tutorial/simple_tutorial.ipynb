{
 "cells": [
  {
   "cell_type": "markdown",
   "metadata": {
    "colab_type": "text",
    "id": "jYysdyb-CaWM"
   },
   "source": [
    "# Querying a TensorFlow model hosted with TensorFlow Serving"
   ]
  },
  {
   "cell_type": "code",
   "execution_count": 1,
   "metadata": {
    "colab": {},
    "colab_type": "code",
    "id": "dzLKpmZICaWN"
   },
   "outputs": [
    {
     "name": "stdout",
     "output_type": "stream",
     "text": [
      "stfsclient.tensorflow_serving, using TF: False\n",
      "stfsclient.tf_utils, using TF: False\n"
     ]
    }
   ],
   "source": [
    "import warnings\n",
    "warnings.filterwarnings('ignore')\n",
    "\n",
    "# Helper libraries\n",
    "import numpy as np\n",
    "import matplotlib.pyplot as plt\n",
    "import os\n",
    "\n",
    "# STFSClient\n",
    "from stfsclient import apis, config, sources, util, datasets"
   ]
  },
  {
   "cell_type": "markdown",
   "metadata": {
    "colab_type": "text",
    "id": "yR0EdgrLCaWR"
   },
   "source": [
    "## Import the Fashion MNIST dataset\n",
    "\n",
    "The [Fashion MNIST](https://github.com/zalandoresearch/fashion-mnist) dataset contains 70,000 grayscale images in 10 categories. The images show individual articles of clothing at low resolution (28 by 28 pixels), as seen here:\n",
    "\n",
    "![Fashion MNIST](https://tensorflow.org/images/fashion-mnist-sprite.png)"
   ]
  },
  {
   "cell_type": "code",
   "execution_count": 2,
   "metadata": {},
   "outputs": [
    {
     "name": "stdout",
     "output_type": "stream",
     "text": [
      "Shape: (10000, 28, 28, 1)\n",
      "DType: float64\n"
     ]
    }
   ],
   "source": [
    "_, (test_images, test_labels) = datasets.fashion_mnist.load_data()\n",
    "\n",
    "# preprocessing the data before inference\n",
    "test_images = test_images / 255.0\n",
    "test_images = test_images.reshape(test_images.shape[0], 28, 28, 1)\n",
    "\n",
    "class_names = ['T-shirt/top', 'Trouser', 'Pullover', 'Dress', 'Coat',\n",
    "               'Sandal', 'Shirt', 'Sneaker', 'Bag', 'Ankle boot']\n",
    "\n",
    "print('Shape: {}\\nDType: {}'.format(test_images.shape, test_images.dtype))"
   ]
  },
  {
   "cell_type": "markdown",
   "metadata": {},
   "source": [
    "## Run the server"
   ]
  },
  {
   "cell_type": "markdown",
   "metadata": {},
   "source": [
    "A set of pre-trained models are provided as part of this tutorial along with an ascii `model_server_config.pbtxt` file.\n",
    "\n",
    "Follow the [instructions](https://github.com/jagans94/stfsclient#installation) to setup the `tensorflow_model_server` on your system. Once, you've installed the model server, run the following commands in your terminal from the current directory.\n",
    "\n",
    "```bash\n",
    "rm -r /tmp/models\n",
    "cp -r models /tmp/\n",
    "```\n",
    "\n",
    "followed by,\n",
    "\n",
    "```bash\n",
    "nohup tensorflow_model_server --port=8500 --rest_api_port=8501 --enable_batching --model_config_file=/tmp/models/model_server_config.pbtxt >server.log 2>&1 &\n",
    "```"
   ]
  },
  {
   "cell_type": "code",
   "execution_count": 3,
   "metadata": {},
   "outputs": [
    {
     "name": "stdout",
     "output_type": "stream",
     "text": [
      "2019-09-16 00:14:31.117740: I external/org_tensorflow/tensorflow/cc/saved_model/reader.cc:54] Reading meta graph with tags { serve }\n",
      "2019-09-16 00:14:31.127508: I external/org_tensorflow/tensorflow/cc/saved_model/loader.cc:202] Restoring SavedModel bundle.\n",
      "2019-09-16 00:14:31.147411: I external/org_tensorflow/tensorflow/cc/saved_model/loader.cc:311] SavedModel load for tags { serve }; Status: success. Took 32929 microseconds.\n",
      "2019-09-16 00:14:31.147455: I tensorflow_serving/servables/tensorflow/saved_model_bundle_factory.cc:100] Wrapping session to perform batch processing\n",
      "2019-09-16 00:14:31.147471: I tensorflow_serving/servables/tensorflow/bundle_factory_util.cc:153] Wrapping session to perform batch processing\n",
      "2019-09-16 00:14:31.147510: I tensorflow_serving/servables/tensorflow/saved_model_warmup.cc:103] No warmup data file found at /tmp/models/fashion_model/1/assets.extra/tf_serving_warmup_requests\n",
      "2019-09-16 00:14:31.147643: I tensorflow_serving/core/loader_harness.cc:86] Successfully loaded servable version {name: fashion_model version: 1}\n",
      "2019-09-16 00:14:31.149561: I tensorflow_serving/model_servers/server.cc:324] Running gRPC ModelServer at 0.0.0.0:8500 ...\n",
      "2019-09-16 00:14:31.150303: I tensorflow_serving/model_servers/server.cc:344] Exporting HTTP/REST API at:localhost:8501 ...\n",
      "[evhttp_server.cc : 239] RAW: Entering the event loop ...\n"
     ]
    }
   ],
   "source": [
    "! tail server.log"
   ]
  },
  {
   "cell_type": "markdown",
   "metadata": {},
   "source": [
    "Your last few lines should be similar to this:\n",
    "\n",
    "```bash\n",
    "2019-09-15 17:32:28.843505: I tensorflow_serving/core/loader_harness.cc:86] Successfully loaded servable version {name: fashion_model version: 1}\n",
    "2019-09-15 17:32:28.845849: I tensorflow_serving/model_servers/server.cc:324] Running gRPC ModelServer at 0.0.0.0:8500 ...\n",
    "[evhttp_server.cc : 239] RAW: Entering the event loop ...\n",
    "2019-09-15 17:32:28.846845: I tensorflow_serving/model_servers/server.cc:344] Exporting HTTP/REST API at:localhost:8501 ...\n",
    "```\n",
    "\n",
    "**Note:** We will be pinging the gRPC ModelServer using our client."
   ]
  },
  {
   "cell_type": "markdown",
   "metadata": {},
   "source": [
    "## Making requests to the Predict API\n",
    "\n",
    "#### **[Predict API](https://github.com/tensorflow/serving/blob/5369880e9143aa00d586ee536c12b04e945a977c/tensorflow_serving/apis/prediction_service.proto#L23):** Returns output tensors."
   ]
  },
  {
   "cell_type": "code",
   "execution_count": 4,
   "metadata": {
    "colab": {},
    "colab_type": "code",
    "id": "Luqm_Jyff9iR"
   },
   "outputs": [
    {
     "data": {
      "image/png": "[encoded data removed]",
      "text/plain": [
       "<Figure size 432x288 with 1 Axes>"
      ]
     },
     "metadata": {
      "needs_background": "light"
     },
     "output_type": "display_data"
    }
   ],
   "source": [
    "def show(idx, title):\n",
    "    plt.figure()\n",
    "    plt.imshow(test_images[idx].reshape(28,28))\n",
    "    plt.axis('off')\n",
    "    plt.title('\\n\\n{}'.format(title), fontdict={'size': 16})\n",
    "\n",
    "import random\n",
    "rando = random.randint(0,len(test_images)-1)\n",
    "show(rando, 'An Example Image: {}'.format(class_names[test_labels[rando]]))"
   ]
  },
  {
   "cell_type": "markdown",
   "metadata": {
    "colab_type": "text",
    "id": "TKnEHeTrbh3L"
   },
   "source": [
    "Ok, that looks interesting. \n",
    "How hard is that for you to recognize? Now let's create a prediction request object for a batch of three inference requests, and see how well our model recognizes things:"
   ]
  },
  {
   "cell_type": "code",
   "execution_count": 5,
   "metadata": {
    "colab": {},
    "colab_type": "code",
    "id": "2dsD7KQG1m-R"
   },
   "outputs": [],
   "source": [
    "batch_size = 3"
   ]
  },
  {
   "cell_type": "code",
   "execution_count": 6,
   "metadata": {
    "colab": {},
    "colab_type": "code",
    "id": "2dsD7KQG1m-R"
   },
   "outputs": [],
   "source": [
    "model_spec = apis.ModelSpec(name='fashion_model', version=1, signature_name='serving_default')\n",
    "predict_request = apis.PredictRequest(\n",
    "    model_spec=model_spec,\n",
    "    inputs={'input_image': test_images[:batch_size,:].astype(np.float32)})\n",
    "prediction_service = apis.PredictionService('0.0.0.0:8500')\n",
    "predict = prediction_service.predict"
   ]
  },
  {
   "cell_type": "markdown",
   "metadata": {
    "colab_type": "text",
    "id": "iT3J-lHrhOYQ"
   },
   "source": [
    "#### A couple of things:\n",
    "\n",
    "- By specifying the version of the model in model_spec we can tell the server to serve our requests to a specific model.\n",
    "- The signature_name specifies the SignatureDef used for binding inputs and outputs when exporting the model.\n",
    "- Parameters like name, signature_name and input_image are defined while exporting the model."
   ]
  },
  {
   "cell_type": "code",
   "execution_count": 7,
   "metadata": {
    "colab": {},
    "colab_type": "code",
    "id": "vGvFyuIzW6n6"
   },
   "outputs": [],
   "source": [
    "predict_response = apis.PredictResponse()\n",
    "predict_response = predict_response.copy(predict(predict_request._protobuf, 5))"
   ]
  },
  {
   "cell_type": "code",
   "execution_count": 8,
   "metadata": {
    "colab": {},
    "colab_type": "code",
    "id": "vGvFyuIzW6n6"
   },
   "outputs": [],
   "source": [
    "def get_predictions(predict_response):\n",
    "    predicted_labels = []\n",
    "    for key, prediction in predict_response.parse_outputs().items():\n",
    "        for i in range(batch_size):\n",
    "            predicted_labels.append(class_names[np.argmax(prediction[i])])\n",
    "    return predicted_labels"
   ]
  },
  {
   "cell_type": "code",
   "execution_count": 9,
   "metadata": {},
   "outputs": [],
   "source": [
    "predictions = get_predictions(predict_response)"
   ]
  },
  {
   "cell_type": "code",
   "execution_count": 10,
   "metadata": {},
   "outputs": [],
   "source": [
    "# Test here by changing the index value\n",
    "index = 2"
   ]
  },
  {
   "cell_type": "code",
   "execution_count": 11,
   "metadata": {
    "colab": {},
    "colab_type": "code",
    "id": "vGvFyuIzW6n6"
   },
   "outputs": [
    {
     "data": {
      "image/png": "[encoded data removed]",
      "text/plain": [
       "<Figure size 432x288 with 1 Axes>"
      ]
     },
     "metadata": {
      "needs_background": "light"
     },
     "output_type": "display_data"
    }
   ],
   "source": [
    "show(index, \n",
    "     'Predicted class: {}, True class: {}'.format(predictions[index], \n",
    "                                                 class_names[test_labels[index]]))"
   ]
  },
  {
   "cell_type": "markdown",
   "metadata": {},
   "source": [
    "The model seems to be on mark! Remember your prediction is only as good as your data, so feed you model lots and lots of data to make it better."
   ]
  },
  {
   "cell_type": "markdown",
   "metadata": {},
   "source": [
    "## Making requests to Model Metadata, Model Status and Reload Config APIs\n",
    "\n",
    "TensorFlow ModelServer also supports other APIs as well. This section describes these API\n",
    "endpoints with end-to-end examples. The request and response is a 'protobuf' object, with the composition of this object depending on the request type.\n",
    "\n",
    "The gRPC services accepts a 'protobuf' request object and returns a 'protobuf' response object respectively. The wrappers expose the internal 'protobuf' object through the `._protobuf` attribute."
   ]
  },
  {
   "cell_type": "markdown",
   "metadata": {},
   "source": [
    "#### Currently, 'stfsclient' supports only the above APIs, with plans to add more in the future, including some custom ones."
   ]
  },
  {
   "cell_type": "markdown",
   "metadata": {},
   "source": [
    "#### **[Model Metadata API](https://github.com/tensorflow/serving/blob/5369880e9143aa00d586ee536c12b04e945a977c/tensorflow_serving/apis/prediction_service.proto#L29):** It returns the metadata of a model in the ModelServer.\n",
    "\n",
    "Let's say you want to know the metadata of the models hosted by a particular TensorFlow Model Server (in our case, `0.0.0.0.8500`). The request and response look something like this."
   ]
  },
  {
   "cell_type": "code",
   "execution_count": 12,
   "metadata": {},
   "outputs": [],
   "source": [
    "prediction_service = apis.PredictionService('0.0.0.0:8500')\n",
    "get_model_metadata = prediction_service.get_model_metadata"
   ]
  },
  {
   "cell_type": "code",
   "execution_count": 13,
   "metadata": {},
   "outputs": [],
   "source": [
    "get_metadata_request = apis.GetModelMetadataRequest(\n",
    "    model_spec=apis.ModelSpec(name='mnist', version=1, signature_name='predict_images'), \n",
    "    metadata_field='signature_def')"
   ]
  },
  {
   "cell_type": "code",
   "execution_count": 14,
   "metadata": {},
   "outputs": [],
   "source": [
    "get_metadata_response = apis.GetModelMetadataResponse()\n",
    "get_metadata_response = get_metadata_response.copy(get_model_metadata(get_metadata_request._protobuf, 5))"
   ]
  },
  {
   "cell_type": "code",
   "execution_count": 15,
   "metadata": {},
   "outputs": [
    {
     "data": {
      "text/plain": [
       "name: \"mnist\"\n",
       "version {\n",
       "  value: 1\n",
       "}"
      ]
     },
     "execution_count": 15,
     "metadata": {},
     "output_type": "execute_result"
    }
   ],
   "source": [
    "get_metadata_response.model_spec"
   ]
  },
  {
   "cell_type": "code",
   "execution_count": 16,
   "metadata": {},
   "outputs": [
    {
     "data": {
      "text/plain": [
       "{'signature_def': type_url: \"type.googleapis.com/tensorflow.serving.SignatureDefMap\"\n",
       "value: \"\\n\\305\\001\\n\\017serving_default\\022\\261\\001\\n\\036\\n\\006inputs\\022\\024\\n\\014tf_example:0\\020\\007\\032\\002\\030\\001\\022G\\n\\007classes\\022<\\n%hash_table_Lookup/LookupTableFindV2:0\\020\\007\\032\\021\\022\\013\\010\\377\\377\\377\\377\\377\\377\\377\\377\\377\\001\\022\\002\\010\\n\\022)\\n\\006scores\\022\\037\\n\\010TopKV2:0\\020\\001\\032\\021\\022\\013\\010\\377\\377\\377\\377\\377\\377\\377\\377\\377\\001\\022\\002\\010\\n\\032\\033tensorflow/serving/classify\\n{\\n\\016predict_images\\022i\\n%\\n\\006images\\022\\033\\n\\003x:0\\020\\001\\032\\022\\022\\013\\010\\377\\377\\377\\377\\377\\377\\377\\377\\377\\001\\022\\003\\010\\220\\006\\022$\\n\\006scores\\022\\032\\n\\003y:0\\020\\001\\032\\021\\022\\013\\010\\377\\377\\377\\377\\377\\377\\377\\377\\377\\001\\022\\002\\010\\n\\032\\032tensorflow/serving/predict\"\n",
       "}"
      ]
     },
     "execution_count": 16,
     "metadata": {},
     "output_type": "execute_result"
    }
   ],
   "source": [
    "get_metadata_response.metadata"
   ]
  },
  {
   "cell_type": "markdown",
   "metadata": {},
   "source": [
    "At this time, the ModelMetadata API only supports 'signature_def'. Knowing the 'signature_def' can help structuring queries to the model. \n",
    "\n",
    "**TO DO:** Parsing 'signature_def'."
   ]
  },
  {
   "cell_type": "markdown",
   "metadata": {},
   "source": [
    "#### **[Reload Config API](https://github.com/tensorflow/serving/blob/master/tensorflow_serving/apis/model_service.proto#L22):** Reloads the set of served models in the ModelServer.\n",
    "\n",
    "Remember the `model_config_file=/tmp/models/model_server_config.pbtxt` argument we passed to the TensorFlow Model Server earlier. That file instructs Tensorflow Serving to load updated versions of the models specified in that configuration file at the specified locations on the disk/storage path.\n",
    "\n",
    "Using this API TensorFlow Serving allows you to reload the config file dynamically at run-time, changing which models are served and how."
   ]
  },
  {
   "cell_type": "markdown",
   "metadata": {},
   "source": [
    "Here's two policies specifying the model version/s to be served,\n",
    "1. Serve version #2 of the model\n",
    "2. Serve all versions of the model"
   ]
  },
  {
   "cell_type": "code",
   "execution_count": 17,
   "metadata": {},
   "outputs": [],
   "source": [
    "version_policy_1 = config.ServableVersionPolicy(specific=2) \n",
    "version_policy_2 = config.ServableVersionPolicy(_all=1)"
   ]
  },
  {
   "cell_type": "markdown",
   "metadata": {},
   "source": [
    "This time we're going after the mnist model!!"
   ]
  },
  {
   "cell_type": "code",
   "execution_count": 18,
   "metadata": {},
   "outputs": [],
   "source": [
    "def get_model_server_config(version_policy):\n",
    "    if version_policy is not None:\n",
    "        _config = [config.ModelConfig(name='mnist',\n",
    "                                      base_path='/tmp/models/mnist',\n",
    "                                      model_platform='tensorflow', \n",
    "                                      model_version_policy=version_policy),\n",
    "                 ]\n",
    "    else:\n",
    "        _config = []\n",
    "    \n",
    "    model_server_config = config.ModelServerConfig()\n",
    "    model_server_config.model_config_list.config = _config\n",
    "    \n",
    "    return model_server_config"
   ]
  },
  {
   "cell_type": "markdown",
   "metadata": {},
   "source": [
    "One use case of chain assignment: It makes assigning values to nested values really easy!\n",
    "\n",
    "**Note:** The models need to be present on the disk at the specified base path otherwise a gRPC error will be thrown."
   ]
  },
  {
   "cell_type": "code",
   "execution_count": 19,
   "metadata": {},
   "outputs": [],
   "source": [
    "model_service = apis.ModelService('0.0.0.0:8500')\n",
    "reload_config = model_service.reload_config"
   ]
  },
  {
   "cell_type": "markdown",
   "metadata": {},
   "source": [
    "### Load version #2"
   ]
  },
  {
   "cell_type": "code",
   "execution_count": 20,
   "metadata": {},
   "outputs": [
    {
     "data": {
      "text/plain": [
       "status {\n",
       "}"
      ]
     },
     "execution_count": 20,
     "metadata": {},
     "output_type": "execute_result"
    }
   ],
   "source": [
    "reload_config_request = apis.ReloadConfigRequest(config=get_model_server_config(version_policy_1))\n",
    "reload_config(reload_config_request._protobuf, 5) # if successful returns an empty status"
   ]
  },
  {
   "cell_type": "markdown",
   "metadata": {},
   "source": [
    "#### Alright\n",
    "Woohoo! That worked! Or did it? How to check that?\n",
    "Well, we can try sending a 'get_model_status' rpc request to query the status of the model."
   ]
  },
  {
   "cell_type": "markdown",
   "metadata": {},
   "source": [
    "#### **[Model Status API](https://github.com/tensorflow/serving/blob/master/tensorflow_serving/apis/model_service.proto#L17):** It returns the status of a model in the ModelServer.\n",
    "\n",
    "This API allows you to get the status of the model (including that of individual versions) and allows you to check whether a model is running or stopped."
   ]
  },
  {
   "cell_type": "code",
   "execution_count": 21,
   "metadata": {},
   "outputs": [],
   "source": [
    "get_model_status = model_service.get_model_status"
   ]
  },
  {
   "cell_type": "code",
   "execution_count": 22,
   "metadata": {},
   "outputs": [
    {
     "data": {
      "text/plain": [
       "model_version_status {\n",
       "  version: 2\n",
       "  state: AVAILABLE\n",
       "  status {\n",
       "  }\n",
       "}\n",
       "model_version_status {\n",
       "  version: 1\n",
       "  state: END\n",
       "  status {\n",
       "  }\n",
       "}"
      ]
     },
     "execution_count": 22,
     "metadata": {},
     "output_type": "execute_result"
    }
   ],
   "source": [
    "get_model_status_request = apis.GetModelStatusRequest(\n",
    "    model_spec=apis.ModelSpec(name='mnist', signature_name='predict_images'))\n",
    "get_model_status(get_model_status_request._protobuf, 5)"
   ]
  },
  {
   "cell_type": "markdown",
   "metadata": {},
   "source": [
    "You can also get the status of a specific version of the model, like this!"
   ]
  },
  {
   "cell_type": "code",
   "execution_count": 23,
   "metadata": {},
   "outputs": [
    {
     "data": {
      "text/plain": [
       "model_version_status {\n",
       "  version: 1\n",
       "  state: END\n",
       "  status {\n",
       "  }\n",
       "}"
      ]
     },
     "execution_count": 23,
     "metadata": {},
     "output_type": "execute_result"
    }
   ],
   "source": [
    "get_model_status_request = apis.GetModelStatusRequest(\n",
    "    model_spec=apis.ModelSpec(name='mnist', version=1, signature_name='predict_images'))\n",
    "get_model_status(get_model_status_request._protobuf, 5)"
   ]
  },
  {
   "cell_type": "markdown",
   "metadata": {},
   "source": [
    "**Summary:** Version 2 is running and 1 has been taken down."
   ]
  },
  {
   "cell_type": "markdown",
   "metadata": {},
   "source": [
    "### Load all versions"
   ]
  },
  {
   "cell_type": "markdown",
   "metadata": {},
   "source": [
    "This time we are going to try loading all versions and see the difference from before!"
   ]
  },
  {
   "cell_type": "code",
   "execution_count": 24,
   "metadata": {},
   "outputs": [
    {
     "data": {
      "text/plain": [
       "status {\n",
       "}"
      ]
     },
     "execution_count": 24,
     "metadata": {},
     "output_type": "execute_result"
    }
   ],
   "source": [
    "reload_config_request = apis.ReloadConfigRequest(config=get_model_server_config(version_policy_2))\n",
    "reload_config(reload_config_request._protobuf, 5) # if successful returns an empty status"
   ]
  },
  {
   "cell_type": "code",
   "execution_count": 26,
   "metadata": {},
   "outputs": [
    {
     "data": {
      "text/plain": [
       "model_version_status {\n",
       "  version: 2\n",
       "  state: AVAILABLE\n",
       "  status {\n",
       "  }\n",
       "}\n",
       "model_version_status {\n",
       "  version: 1\n",
       "  state: AVAILABLE\n",
       "  status {\n",
       "  }\n",
       "}"
      ]
     },
     "execution_count": 26,
     "metadata": {},
     "output_type": "execute_result"
    }
   ],
   "source": [
    "get_model_status_request = apis.GetModelStatusRequest(\n",
    "    model_spec=apis.ModelSpec(name='mnist', signature_name='predict_images'))\n",
    "get_model_status(get_model_status_request._protobuf, 5)"
   ]
  },
  {
   "cell_type": "markdown",
   "metadata": {},
   "source": [
    "**Summary:** Both the versions are running."
   ]
  },
  {
   "cell_type": "markdown",
   "metadata": {},
   "source": [
    "### Unload all versions"
   ]
  },
  {
   "cell_type": "code",
   "execution_count": 27,
   "metadata": {},
   "outputs": [
    {
     "data": {
      "text/plain": [
       "status {\n",
       "}"
      ]
     },
     "execution_count": 27,
     "metadata": {},
     "output_type": "execute_result"
    }
   ],
   "source": [
    "reload_config_request = apis.ReloadConfigRequest(config=get_model_server_config(None))\n",
    "reload_config(reload_config_request._protobuf, 5) # if successful returns an empty status"
   ]
  },
  {
   "cell_type": "code",
   "execution_count": 28,
   "metadata": {},
   "outputs": [
    {
     "data": {
      "text/plain": [
       "model_version_status {\n",
       "  version: 2\n",
       "  state: END\n",
       "  status {\n",
       "  }\n",
       "}\n",
       "model_version_status {\n",
       "  version: 1\n",
       "  state: END\n",
       "  status {\n",
       "  }\n",
       "}"
      ]
     },
     "execution_count": 28,
     "metadata": {},
     "output_type": "execute_result"
    }
   ],
   "source": [
    "get_model_status_request = apis.GetModelStatusRequest(\n",
    "    model_spec=apis.ModelSpec(name='mnist', signature_name='predict_images'))\n",
    "get_model_status(get_model_status_request._protobuf, 5)"
   ]
  },
  {
   "cell_type": "markdown",
   "metadata": {},
   "source": [
    "**Summary:** All versions have been taken down."
   ]
  },
  {
   "cell_type": "markdown",
   "metadata": {},
   "source": [
    "### Don't forget to stop the TensorFlow Model Server!!"
   ]
  }
 ],
 "metadata": {
  "accelerator": "GPU",
  "colab": {
   "collapsed_sections": [],
   "name": "Serving_REST_simple.ipynb",
   "private_outputs": true,
   "provenance": [],
   "toc_visible": true,
   "version": "0.3.2"
  },
  "kernelspec": {
   "display_name": "Python 3",
   "language": "python",
   "name": "python3"
  },
  "language_info": {
   "codemirror_mode": {
    "name": "ipython",
    "version": 3
   },
   "file_extension": ".py",
   "mimetype": "text/x-python",
   "name": "python",
   "nbconvert_exporter": "python",
   "pygments_lexer": "ipython3",
   "version": "3.6.8"
  }
 },
 "nbformat": 4,
 "nbformat_minor": 4
}
